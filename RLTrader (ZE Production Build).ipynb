{
 "cells": [
  {
   "cell_type": "code",
   "execution_count": 3,
   "metadata": {},
   "outputs": [],
   "source": [
    "#from rltensor.app import APPAgent\n",
    "import pickle\n",
    "import trader\n",
    "from trader import BFXClient, Trader\n",
    "from datetime import datetime\n",
    "from time import sleep\n",
    "import importlib\n",
    "\n",
    "# <TEMP>\n",
    "import pandas as pd\n",
    "import numpy as np\n",
    "import sqlite3\n",
    "# </TEMP>\n",
    "\n",
    "import sys\n",
    "sys.path.append('/Users/zach-eberhart/desktop/rltrader/pytrade_env/pytrade_env/database')\n",
    "import trade_history\n",
    "from trade_history import TradeHistory\n",
    "\n",
    "# dep: pandas 0.22.0\n",
    "sys.path.append('/Users/zach-eberhart/desktop/rltrader/rltensor/execution/personal_online')\n",
    "import online_helpers as p\n",
    "import twitter"
   ]
  },
  {
   "cell_type": "code",
   "execution_count": 4,
   "metadata": {},
   "outputs": [],
   "source": [
    "def get_weights_dict(weights, currency_pairs):\n",
    "    dict_ = {}\n",
    "    for cp, w in zip(currency_pairs, weights):\n",
    "        dict_[cp] = w\n",
    "    return dict_\n",
    "\n",
    "def get_price_dict(currency_pairs):\n",
    "    k = 'XeF1yB3isJHwgDgbk2WS6wGjxZwEGT4mNbwFqAoCMyv'\n",
    "    s = 'sD1jXrh4FCzNvKOPWEgYOhUTJFCnh0PPxbhbtVVPEmQ'\n",
    "    bfx = BFXClient(k, s)\n",
    "    return bfx.get_last_price(currency_pairs).to_dict()\n",
    "\n",
    "def period_result(weights, currency_pairs):\n",
    "    weights_dict = get_weights_dict(weights, currency_pairs)\n",
    "    price_dict = get_price_dict(currency_pairs)\n",
    "    current_dt = str(datetime.utcnow().strftime(\"%Y-%m-%d %H:%M:%S\"))\n",
    "    return {'datetime': current_dt, 'weights': weights_dict, 'price': price_dict}\n",
    "\n",
    "def get_period_end():\n",
    "    now = [int(i) for i in datetime.now().strftime('%Y %m %d %H %M').split()]\n",
    "    if (int(now[4]) - 30) < 0:\n",
    "        now[4] = 30\n",
    "    else:\n",
    "        now[3] += 1\n",
    "        if now[3] == 24:\n",
    "            now[2] += 1\n",
    "            now[3] = 0\n",
    "        now[4] = 0\n",
    "    y, M, d, h, m = now\n",
    "    period_end = int(datetime(y, M, d, h, m).timestamp())\n",
    "    return period_end\n",
    "\n",
    "def sleep_until_period_end(sleep_buffer = 5):\n",
    "    period_end = get_period_end()\n",
    "    now = int(datetime.now().timestamp())\n",
    "    sleep_time = period_end - now + sleep_buffer\n",
    "    print('Sleeping until period end (%s seconds).' % sleep_time)\n",
    "    sleep(sleep_time)"
   ]
  },
  {
   "cell_type": "markdown",
   "metadata": {},
   "source": [
    "# RLTrader"
   ]
  },
  {
   "cell_type": "code",
   "execution_count": 5,
   "metadata": {},
   "outputs": [
    {
     "name": "stdout",
     "output_type": "stream",
     "text": [
      "\n",
      "Currency Pairs Used in Test:\n",
      "\n",
      "['USDT_BCH', 'USDT_BTC', 'USDT_DASH', 'USDT_ETC', 'USDT_ETH', 'USDT_LTC', 'USDT_XMR', 'USDT_XRP', 'USDT_ZEC']\n",
      "\n",
      "Currency Pairs Used in Live Online Algo:\n",
      "\n",
      "['USDT_BCH', 'USDT_XMR', 'USDT_DASH', 'USDT_NEO', 'USDT_EOS', 'USDT_SAN', 'USDT_IOTA', 'USDT_BTC', 'USDT_ETH']\n"
     ]
    }
   ],
   "source": [
    "tickers = []\n",
    "\n",
    "with (open(\"/Users/zach-eberhart/desktop/rltrader/rltensor/rltensor/app/ticker1.pkl\", \"rb\")) as openfile:\n",
    "    \n",
    "    while True:\n",
    "        try: tickers.append(pickle.load(openfile))\n",
    "        except EOFError: break\n",
    "\n",
    "currency_pairs = tickers[0]\n",
    "\n",
    "print('\\nCurrency Pairs Used in Test:\\n')\n",
    "print(currency_pairs)\n",
    "\n",
    "alternative_portfolio = ['USDT_BCH', 'USDT_XMR', 'USDT_DASH',\n",
    "                         'USDT_NEO', 'USDT_EOS', 'USDT_SAN', \n",
    "                         'USDT_IOTA', 'USDT_BTC', 'USDT_ETH']\n",
    "\n",
    "print('\\nCurrency Pairs Used in Live Online Algo:\\n')\n",
    "print(alternative_portfolio)\n",
    "\n",
    "all_relevant_pairs = list(set(currency_pairs + alternative_portfolio))"
   ]
  },
  {
   "cell_type": "markdown",
   "metadata": {},
   "source": [
    "## Pre-Retrieve New Data (if needed)"
   ]
  },
  {
   "cell_type": "code",
   "execution_count": 7,
   "metadata": {},
   "outputs": [
    {
     "name": "stdout",
     "output_type": "stream",
     "text": [
      "\n",
      "=== Getting Trade History ===\n",
      "\n",
      "Period End: 1536424200\n",
      "Currency Pair: USDT_BCH\n",
      "Latest Trade: 1536393613000\n",
      "API Start: 1536393613000\n",
      "API End: 1536423702457\n",
      "Successfully added trades to raw db.\n",
      "\n",
      "Currency Pair: USDT_XMR\n",
      "Latest Trade: 1536394279000\n",
      "API Start: 1536394279000\n",
      "API End: 1536423712120\n",
      "Successfully added trades to raw db.\n",
      "\n",
      "Currency Pair: USDT_DASH\n",
      "Latest Trade: 1536394682000\n",
      "API Start: 1536394682000\n",
      "API End: 1536423715303\n",
      "Successfully added trades to raw db.\n",
      "\n",
      "Currency Pair: USDT_NEO\n",
      "Latest Trade: 1536395166000\n",
      "API Start: 1536395166000\n",
      "API End: 1536423727990\n",
      "Successfully added trades to raw db.\n",
      "\n",
      "Currency Pair: USDT_EOS\n",
      "Latest Trade: 1536396173000\n",
      "API Start: 1536396173000\n",
      "API End: 1536423740707\n",
      "Successfully added trades to raw db.\n",
      "\n",
      "Currency Pair: USDT_SAN\n",
      "Latest Trade: 1536398793000\n",
      "API Start: 1536398793000\n",
      "API End: 1536423760094\n",
      "Successfully added trades to raw db.\n",
      "\n",
      "Currency Pair: USDT_IOTA\n",
      "Latest Trade: 1536399287000\n",
      "API Start: 1536399287000\n",
      "API End: 1536423763230\n",
      "Successfully added trades to raw db.\n",
      "\n",
      "Currency Pair: USDT_BTC\n",
      "Latest Trade: 1536401000000\n",
      "API Start: 1536401000000\n",
      "API End: 1536423772910\n",
      "Successfully added trades to raw db.\n",
      "\n",
      "Currency Pair: USDT_ETH\n",
      "Latest Trade: 1536403348000\n",
      "API Start: 1536403348000\n",
      "API End: 1536423801703\n",
      "Successfully added trades to raw db.\n",
      "\n",
      "processing USDT_BCH\n",
      "Some NaN values are found, scrubbing out.\n",
      "processing USDT_XMR\n",
      "Some NaN values are found, scrubbing out.\n",
      "processing USDT_DASH\n",
      "Some NaN values are found, scrubbing out.\n",
      "processing USDT_NEO\n",
      "Some NaN values are found, scrubbing out.\n",
      "processing USDT_EOS\n",
      "Some NaN values are found, scrubbing out.\n",
      "processing USDT_SAN\n",
      "Some NaN values are found, scrubbing out.\n",
      "processing USDT_IOTA\n",
      "Some NaN values are found, scrubbing out.\n",
      "processing USDT_BTC\n",
      "Some NaN values are found, scrubbing out.\n",
      "processing USDT_ETH\n",
      "Some NaN values are found, scrubbing out.\n",
      "Successfully updated processed db.\n"
     ]
    },
    {
     "data": {
      "text/plain": [
       "'success'"
      ]
     },
     "execution_count": 7,
     "metadata": {},
     "output_type": "execute_result"
    }
   ],
   "source": [
    "p.just_update_trade_history(alternative_portfolio)"
   ]
  },
  {
   "cell_type": "code",
   "execution_count": 5,
   "metadata": {
    "collapsed": true
   },
   "outputs": [],
   "source": [
    "# df = history.get_processed_charts_from_db()[['open', 'high', 'low', 'close', 'volume', 'currency_pair']].copy()\n",
    "# df[df.index == df.index.max()]"
   ]
  },
  {
   "cell_type": "markdown",
   "metadata": {},
   "source": [
    "## ONS (Balance Only)"
   ]
  },
  {
   "cell_type": "code",
   "execution_count": 6,
   "metadata": {},
   "outputs": [
    {
     "name": "stdout",
     "output_type": "stream",
     "text": [
      "\n",
      "=== Getting Trade History ===\n",
      "\n",
      "Period End: 1531094400\n",
      "Currency Pair: USDT_BCH\n",
      "Latest Trade: 1531088068000\n",
      "API Start: 1531088068000\n",
      "API End: 1531092619472\n",
      "Successfully added trades to raw db.\n",
      "\n",
      "Currency Pair: USDT_XMR\n",
      "Latest Trade: 1531088132000\n",
      "API Start: 1531088132000\n",
      "API End: 1531092641632\n",
      "Successfully added trades to raw db.\n",
      "\n",
      "Currency Pair: USDT_DASH\n",
      "Latest Trade: 1531087347000\n",
      "API Start: 1531087347000\n",
      "API End: 1531092645692\n",
      "Successfully added trades to raw db.\n",
      "\n",
      "Currency Pair: USDT_NEO\n",
      "Latest Trade: 1531088112000\n",
      "API Start: 1531088112000\n",
      "API End: 1531092649659\n",
      "Successfully added trades to raw db.\n",
      "\n",
      "Currency Pair: USDT_EOS\n",
      "Latest Trade: 1531088152000\n",
      "API Start: 1531088152000\n",
      "API End: 1531092661254\n",
      "Successfully added trades to raw db.\n",
      "\n",
      "Currency Pair: USDT_SAN\n",
      "Latest Trade: 1531087648000\n",
      "API Start: 1531087648000\n",
      "API End: 1531092670746\n",
      "Successfully added trades to raw db.\n",
      "\n",
      "Currency Pair: USDT_IOTA\n",
      "Latest Trade: 1531088131000\n",
      "API Start: 1531088131000\n",
      "API End: 1531092674822\n",
      "Successfully added trades to raw db.\n",
      "\n",
      "Currency Pair: USDT_BTC\n",
      "Latest Trade: 1531088186000\n",
      "API Start: 1531088186000\n",
      "API End: 1531092685999\n",
      "Successfully added trades to raw db.\n",
      "\n",
      "Currency Pair: USDT_ETH\n",
      "Latest Trade: 1531088195000\n",
      "API Start: 1531088195000\n",
      "API End: 1531092708957\n",
      "Successfully added trades to raw db.\n",
      "\n",
      "processing USDT_BCH\n",
      "processing USDT_XMR\n",
      "processing USDT_DASH\n",
      "processing USDT_NEO\n",
      "processing USDT_EOS\n",
      "processing USDT_SAN\n",
      "processing USDT_IOTA\n",
      "processing USDT_BTC\n",
      "processing USDT_ETH\n",
      "Successfully updated processed db.\n",
      "Account: l\n"
     ]
    },
    {
     "ename": "KeyError",
     "evalue": "'tADDUSD'",
     "output_type": "error",
     "traceback": [
      "\u001b[0;31m---------------------------------------------------------------------------\u001b[0m",
      "\u001b[0;31mKeyError\u001b[0m                                  Traceback (most recent call last)",
      "\u001b[0;32m<ipython-input-6-89da93e888b5>\u001b[0m in \u001b[0;36m<module>\u001b[0;34m()\u001b[0m\n\u001b[1;32m     12\u001b[0m     trade.rebalance_portfolio(asset_weights = latest_weights.iloc[-1,:].copy(),\n\u001b[1;32m     13\u001b[0m                               \u001b[0mfill_order_premium\u001b[0m \u001b[0;34m=\u001b[0m \u001b[0;36m0.025\u001b[0m\u001b[0;34m,\u001b[0m\u001b[0;34m\u001b[0m\u001b[0m\n\u001b[0;32m---> 14\u001b[0;31m                               order_minimum = 10)\n\u001b[0m",
      "\u001b[0;32m/Users/zach-eberhart/Desktop/rltrader/rltensor/execution/trader.py\u001b[0m in \u001b[0;36mrebalance_portfolio\u001b[0;34m(self, asset_weights, fill_order_premium, order_minimum, order_attempts, sleep_interval, print_api_response)\u001b[0m\n\u001b[1;32m    536\u001b[0m         \u001b[0;31m# calculate what is needed per asset\u001b[0m\u001b[0;34m\u001b[0m\u001b[0;34m\u001b[0m\u001b[0m\n\u001b[1;32m    537\u001b[0m         \u001b[0masset_weights\u001b[0m \u001b[0;34m=\u001b[0m \u001b[0mself\u001b[0m\u001b[0;34m.\u001b[0m\u001b[0m_non_zero_weights\u001b[0m\u001b[0;34m(\u001b[0m\u001b[0masset_weights\u001b[0m\u001b[0;34m)\u001b[0m\u001b[0;34m.\u001b[0m\u001b[0mcopy\u001b[0m\u001b[0;34m(\u001b[0m\u001b[0;34m)\u001b[0m\u001b[0;34m\u001b[0m\u001b[0m\n\u001b[0;32m--> 538\u001b[0;31m         \u001b[0masset_balance_df\u001b[0m \u001b[0;34m=\u001b[0m \u001b[0mself\u001b[0m\u001b[0;34m.\u001b[0m\u001b[0mcalculate_rebalance\u001b[0m\u001b[0;34m(\u001b[0m\u001b[0masset_weights\u001b[0m\u001b[0;34m)\u001b[0m\u001b[0;34m.\u001b[0m\u001b[0mcopy\u001b[0m\u001b[0;34m(\u001b[0m\u001b[0;34m)\u001b[0m\u001b[0;34m\u001b[0m\u001b[0m\n\u001b[0m\u001b[1;32m    539\u001b[0m \u001b[0;34m\u001b[0m\u001b[0m\n\u001b[1;32m    540\u001b[0m         \u001b[0;31m# drop any orders that are for less than minimum\u001b[0m\u001b[0;34m\u001b[0m\u001b[0;34m\u001b[0m\u001b[0m\n",
      "\u001b[0;32m/Users/zach-eberhart/Desktop/rltrader/rltensor/execution/trader.py\u001b[0m in \u001b[0;36mcalculate_rebalance\u001b[0;34m(self, asset_weights)\u001b[0m\n\u001b[1;32m    511\u001b[0m \u001b[0;34m\u001b[0m\u001b[0m\n\u001b[1;32m    512\u001b[0m         \u001b[0;31m# get the number of each coin needed and the amount of capital for each asset\u001b[0m\u001b[0;34m\u001b[0m\u001b[0;34m\u001b[0m\u001b[0m\n\u001b[0;32m--> 513\u001b[0;31m         portfolio, capital_per_asset, last_price = self.get_new_portfolio(capital = self.get_wallet_value(),\n\u001b[0m\u001b[1;32m    514\u001b[0m                                                                           asset_weights = asset_weights)\n\u001b[1;32m    515\u001b[0m \u001b[0;34m\u001b[0m\u001b[0m\n",
      "\u001b[0;32m/Users/zach-eberhart/Desktop/rltrader/rltensor/execution/trader.py\u001b[0m in \u001b[0;36mget_wallet_value\u001b[0;34m(self, wallet)\u001b[0m\n\u001b[1;32m    336\u001b[0m \u001b[0;34m\u001b[0m\u001b[0m\n\u001b[1;32m    337\u001b[0m         \u001b[0;31m# get the ticker for each pair\u001b[0m\u001b[0;34m\u001b[0m\u001b[0;34m\u001b[0m\u001b[0m\n\u001b[0;32m--> 338\u001b[0;31m         \u001b[0mlast_price\u001b[0m \u001b[0;34m=\u001b[0m \u001b[0mself\u001b[0m\u001b[0;34m.\u001b[0m\u001b[0mget_tickers\u001b[0m\u001b[0;34m(\u001b[0m\u001b[0mportfolio_bfx_symbols\u001b[0m\u001b[0;34m,\u001b[0m \u001b[0muse_cp_map\u001b[0m \u001b[0;34m=\u001b[0m \u001b[0;32mFalse\u001b[0m\u001b[0;34m)\u001b[0m\u001b[0;34m[\u001b[0m\u001b[0;34m[\u001b[0m\u001b[0;34m'symbol'\u001b[0m\u001b[0;34m,\u001b[0m \u001b[0;34m'last_price'\u001b[0m\u001b[0;34m]\u001b[0m\u001b[0;34m]\u001b[0m\u001b[0;34m.\u001b[0m\u001b[0mcopy\u001b[0m\u001b[0;34m(\u001b[0m\u001b[0;34m)\u001b[0m\u001b[0;34m\u001b[0m\u001b[0m\n\u001b[0m\u001b[1;32m    339\u001b[0m \u001b[0;34m\u001b[0m\u001b[0m\n\u001b[1;32m    340\u001b[0m         \u001b[0;31m# join data\u001b[0m\u001b[0;34m\u001b[0m\u001b[0;34m\u001b[0m\u001b[0m\n",
      "\u001b[0;32m/Users/zach-eberhart/Desktop/rltrader/rltensor/execution/trader.py\u001b[0m in \u001b[0;36mget_tickers\u001b[0;34m(self, currency_pairs, use_cp_map)\u001b[0m\n\u001b[1;32m    273\u001b[0m             \u001b[0mticker_df\u001b[0m\u001b[0;34m.\u001b[0m\u001b[0mindex\u001b[0m \u001b[0;34m=\u001b[0m \u001b[0mcurrency_pairs\u001b[0m\u001b[0;34m\u001b[0m\u001b[0m\n\u001b[1;32m    274\u001b[0m         \u001b[0;32melse\u001b[0m\u001b[0;34m:\u001b[0m\u001b[0;34m\u001b[0m\u001b[0m\n\u001b[0;32m--> 275\u001b[0;31m             \u001b[0mticker_df\u001b[0m\u001b[0;34m.\u001b[0m\u001b[0mindex\u001b[0m \u001b[0;34m=\u001b[0m \u001b[0;34m[\u001b[0m\u001b[0mself\u001b[0m\u001b[0;34m.\u001b[0m\u001b[0mcp_map\u001b[0m\u001b[0;34m[\u001b[0m\u001b[0mcp\u001b[0m\u001b[0;34m]\u001b[0m \u001b[0;32mfor\u001b[0m \u001b[0mcp\u001b[0m \u001b[0;32min\u001b[0m \u001b[0mcurrency_pairs\u001b[0m\u001b[0;34m]\u001b[0m\u001b[0;34m\u001b[0m\u001b[0m\n\u001b[0m\u001b[1;32m    276\u001b[0m \u001b[0;34m\u001b[0m\u001b[0m\n\u001b[1;32m    277\u001b[0m         \u001b[0;32mreturn\u001b[0m \u001b[0mticker_df\u001b[0m\u001b[0;34m\u001b[0m\u001b[0m\n",
      "\u001b[0;32m/Users/zach-eberhart/Desktop/rltrader/rltensor/execution/trader.py\u001b[0m in \u001b[0;36m<listcomp>\u001b[0;34m(.0)\u001b[0m\n\u001b[1;32m    273\u001b[0m             \u001b[0mticker_df\u001b[0m\u001b[0;34m.\u001b[0m\u001b[0mindex\u001b[0m \u001b[0;34m=\u001b[0m \u001b[0mcurrency_pairs\u001b[0m\u001b[0;34m\u001b[0m\u001b[0m\n\u001b[1;32m    274\u001b[0m         \u001b[0;32melse\u001b[0m\u001b[0;34m:\u001b[0m\u001b[0;34m\u001b[0m\u001b[0m\n\u001b[0;32m--> 275\u001b[0;31m             \u001b[0mticker_df\u001b[0m\u001b[0;34m.\u001b[0m\u001b[0mindex\u001b[0m \u001b[0;34m=\u001b[0m \u001b[0;34m[\u001b[0m\u001b[0mself\u001b[0m\u001b[0;34m.\u001b[0m\u001b[0mcp_map\u001b[0m\u001b[0;34m[\u001b[0m\u001b[0mcp\u001b[0m\u001b[0;34m]\u001b[0m \u001b[0;32mfor\u001b[0m \u001b[0mcp\u001b[0m \u001b[0;32min\u001b[0m \u001b[0mcurrency_pairs\u001b[0m\u001b[0;34m]\u001b[0m\u001b[0;34m\u001b[0m\u001b[0m\n\u001b[0m\u001b[1;32m    276\u001b[0m \u001b[0;34m\u001b[0m\u001b[0m\n\u001b[1;32m    277\u001b[0m         \u001b[0;32mreturn\u001b[0m \u001b[0mticker_df\u001b[0m\u001b[0;34m\u001b[0m\u001b[0m\n",
      "\u001b[0;31mKeyError\u001b[0m: 'tADDUSD'"
     ]
    }
   ],
   "source": [
    "# VPN\n",
    "\n",
    "# balance portfolio\n",
    "accounts = ['l']#, 'p']\n",
    "\n",
    "# get ONS weights\n",
    "latest_weights = p.get_online_weights(alternative_portfolio)\n",
    "\n",
    "# balance portfolio\n",
    "for a in accounts:\n",
    "    trade = trader.Trader(account = a)\n",
    "    trade.rebalance_portfolio(asset_weights = latest_weights.iloc[-1,:].copy(),\n",
    "                              fill_order_premium = 0.025,\n",
    "                              order_minimum = 10)"
   ]
  },
  {
   "cell_type": "markdown",
   "metadata": {},
   "source": [
    "## Weights for Twitter"
   ]
  },
  {
   "cell_type": "code",
   "execution_count": 6,
   "metadata": {},
   "outputs": [
    {
     "name": "stdout",
     "output_type": "stream",
     "text": [
      "\n",
      "=== Getting Trade History ===\n",
      "\n",
      "Period End: 1533400200\n",
      "Currency Pair: USDT_BCH\n",
      "Latest Trade: 1533397017000\n",
      "API Start: 1533397017000\n",
      "API End: 1533399269223\n",
      "Successfully added trades to raw db.\n",
      "\n",
      "Currency Pair: USDT_XMR\n",
      "Latest Trade: 1533397041000\n",
      "API Start: 1533397041000\n",
      "API End: 1533399272427\n",
      "Successfully added trades to raw db.\n",
      "\n",
      "Currency Pair: USDT_DASH\n",
      "Latest Trade: 1533397090000\n",
      "API Start: 1533397090000\n",
      "API End: 1533399275643\n",
      "Successfully added trades to raw db.\n",
      "\n",
      "Currency Pair: USDT_NEO\n",
      "Latest Trade: 1533397071000\n",
      "API Start: 1533397071000\n",
      "API End: 1533399278853\n",
      "Successfully added trades to raw db.\n",
      "\n",
      "Currency Pair: USDT_EOS\n",
      "Latest Trade: 1533397114000\n",
      "API Start: 1533397114000\n",
      "API End: 1533399282023\n",
      "Successfully added trades to raw db.\n",
      "\n",
      "Currency Pair: USDT_SAN\n",
      "Latest Trade: 1533397197000\n",
      "API Start: 1533397197000\n",
      "API End: 1533399288551\n",
      "Successfully added trades to raw db.\n",
      "\n",
      "Currency Pair: USDT_IOTA\n",
      "Latest Trade: 1533397224000\n",
      "API Start: 1533397224000\n",
      "API End: 1533399291682\n",
      "Successfully added trades to raw db.\n",
      "\n",
      "Currency Pair: USDT_BTC\n",
      "Latest Trade: 1533397323000\n",
      "API Start: 1533397323000\n",
      "API End: 1533399294969\n",
      "Successfully added trades to raw db.\n",
      "\n",
      "Currency Pair: USDT_ETH\n",
      "Latest Trade: 1533397530000\n",
      "API Start: 1533397530000\n",
      "API End: 1533399307983\n",
      "Successfully added trades to raw db.\n",
      "\n",
      "processing USDT_BCH\n",
      "processing USDT_XMR\n",
      "processing USDT_DASH\n",
      "processing USDT_NEO\n",
      "processing USDT_EOS\n",
      "processing USDT_SAN\n",
      "processing USDT_IOTA\n",
      "processing USDT_BTC\n",
      "processing USDT_ETH\n",
      "Successfully updated processed db.\n"
     ]
    }
   ],
   "source": [
    "latest_weights = p.get_online_weights(alternative_portfolio)\n",
    "tweet = twitter.get_tweet(latest_weights)"
   ]
  },
  {
   "cell_type": "code",
   "execution_count": 7,
   "metadata": {},
   "outputs": [
    {
     "name": "stdout",
     "output_type": "stream",
     "text": [
      "successfully tweeted: Most Weight: $DASH (30.4%, -0.5%)\n",
      "Least Weight: $EOS (0.0%, -15.3%)\n",
      "Biggest Mover: $XMR (12.9%, 4.7%)\n",
      "\n",
      "#crypto #cryptotrading\n"
     ]
    }
   ],
   "source": [
    "twitter.post_tweet(tweet)"
   ]
  },
  {
   "cell_type": "code",
   "execution_count": null,
   "metadata": {
    "collapsed": true
   },
   "outputs": [],
   "source": []
  },
  {
   "cell_type": "markdown",
   "metadata": {},
   "source": [
    "## ONS (Continuous Update)"
   ]
  },
  {
   "cell_type": "code",
   "execution_count": null,
   "metadata": {
    "collapsed": true
   },
   "outputs": [],
   "source": [
    "# results = []\n",
    "\n",
    "# sleep_until_period_end()\n",
    "\n",
    "# while True:\n",
    "    \n",
    "#     # update trade history\n",
    "#     p.just_update_trade_history(all_relevant_pairs, verbose = False)\n",
    "    \n",
    "#     # if it's between 00:00-00:30 UTC, then rebalance portfolio\n",
    "#     if int(datetime.now().strftime('%M')) < 30 and \\\n",
    "#        int(datetime.utcnow().strftime('%H')) == 0:\n",
    "        \n",
    "#         print('\\n\\n\\n\\n\\n========== REBALANCING PORTFOLIO ==========\\n\\n\\n')\n",
    "            \n",
    "#         # get ONS weights\n",
    "#         latest_weights = p.get_online_weights(alternative_portfolio)\n",
    "        \n",
    "#         # balance portfolio\n",
    "#         accounts = ['p', 'l']\n",
    "#         for a in accounts:\n",
    "#             trade = trader.Trader(account = a)\n",
    "#             trade.rebalance_portfolio(asset_weights = latest_weights.iloc[-1,:].copy(),\n",
    "#                                       fill_order_premium = 0.025,\n",
    "#                                       order_minimum = 10)\n",
    "        \n",
    "#         # post to twitter\n",
    "#         tweet = twitter.get_tweet(latest_weights)\n",
    "#         twitter.post_tweet(tweet)\n",
    "    \n",
    "#     # sleep, update, sleep\n",
    "#     sleep(1200)\n",
    "#     p.just_update_trade_history(all_relevant_pairs, verbose = False)\n",
    "#     print()\n",
    "#     sleep_until_period_end()\n",
    "#     print('\\n\\n')"
   ]
  },
  {
   "cell_type": "markdown",
   "metadata": {},
   "source": [
    "## Train Model"
   ]
  },
  {
   "cell_type": "code",
   "execution_count": 6,
   "metadata": {},
   "outputs": [
    {
     "data": {
      "text/plain": [
       "'2018-02-27 00:17:49'"
      ]
     },
     "execution_count": 6,
     "metadata": {},
     "output_type": "execute_result"
    }
   ],
   "source": [
    "str(datetime.utcnow().strftime(\"%Y-%m-%d %H:%M:%S\"))"
   ]
  },
  {
   "cell_type": "code",
   "execution_count": 7,
   "metadata": {
    "collapsed": true
   },
   "outputs": [],
   "source": [
    "start = '2017-08-03 00:00:00'\n",
    "end = '2018-02-26 22:00:00'\n",
    "\n",
    "load_file_path = \"params2016-02-01_00:00:00/model.ckpt\"\n",
    "num_epochs = 1"
   ]
  },
  {
   "cell_type": "code",
   "execution_count": 9,
   "metadata": {
    "collapsed": true
   },
   "outputs": [],
   "source": [
    "APPAgent.fit(start, end, load_file_path, num_epochs)"
   ]
  },
  {
   "cell_type": "markdown",
   "metadata": {},
   "source": [
    "# Live Testing"
   ]
  },
  {
   "cell_type": "code",
   "execution_count": 7,
   "metadata": {
    "collapsed": true
   },
   "outputs": [],
   "source": [
    "# del trade, trader\n",
    "# import trader\n",
    "# importlib.reload(trader)"
   ]
  },
  {
   "cell_type": "code",
   "execution_count": 9,
   "metadata": {
    "collapsed": true,
    "scrolled": true
   },
   "outputs": [],
   "source": [
    "results = []\n",
    "\n",
    "#sleep_until_period_end()\n",
    "\n",
    "while True:\n",
    "    \n",
    "    # update model and get prediction\n",
    "    APPAgent.update_data()\n",
    "    APPAgent.update_model(num_epochs = 1)\n",
    "    pred = APPAgent.predict()\n",
    "    \n",
    "    # save results\n",
    "    current_result = dict(period_result(pred, currency_pairs))\n",
    "    results.append(current_result)\n",
    "    print(current_result, '\\n\\n')\n",
    "    \n",
    "    '''\n",
    "    TODO: SORT THE ASSETS TO BALANCE SO THAT NEGATIVES COME FIRST, AND THEN THE\n",
    "    HIGHEST POSITIVES (SO WE GET THE MOST OF THE ASSET THAT IS WEIGHED THE MOST)\n",
    "    '''\n",
    "    \n",
    "    # set account\n",
    "    accounts = ['p', 'l']\n",
    "    \n",
    "    if int(datetime.now().strftime('%M')) < 30 and \\\n",
    "       int(datetime.now().strftime('%H')) % 2 == 0 and False:\n",
    "        \n",
    "        # balance portfolio\n",
    "        for a in accounts:\n",
    "            trade = trader.Trader(account = a)\n",
    "            trade.rebalance_portfolio(asset_weights = pd.Series(current_result['weights']),\n",
    "                                      fill_order_premium = 0.01,\n",
    "                                      order_minimum = 10)\n",
    "    \n",
    "    \n",
    "    if int(datetime.now().strftime('%M')) < 30 and \\\n",
    "       int(datetime.utcnow().strftime('%H')) == 0:\n",
    "        \n",
    "        print('\\n\\n\\n\\n\\n========== REBALANCING PORTFOLIO ==========\\n\\n\\n')\n",
    "            \n",
    "        # get ONS weights\n",
    "        latest_weights = p.get_online_weights(alternative_portfolio)\n",
    "        \n",
    "        # balance portfolio\n",
    "        for a in accounts:\n",
    "            trade = trader.Trader(account = a)\n",
    "            trade.rebalance_portfolio(asset_weights = latest_weights,\n",
    "                                      fill_order_premium = 0.025,\n",
    "                                      order_minimum = 10)\n",
    "    \n",
    "    \n",
    "    # sleep for a little and then update\n",
    "    sleep(1200)\n",
    "    p.just_update_trade_history(all_relevant_pairs, verbose = False)\n",
    "    \n",
    "    # and now sleep until the end of the period\n",
    "    print()\n",
    "    sleep_until_period_end()\n",
    "    print('\\n\\n')"
   ]
  },
  {
   "cell_type": "code",
   "execution_count": null,
   "metadata": {
    "collapsed": true
   },
   "outputs": [],
   "source": []
  },
  {
   "cell_type": "markdown",
   "metadata": {},
   "source": [
    "## Recent Account Values"
   ]
  },
  {
   "cell_type": "code",
   "execution_count": 9,
   "metadata": {},
   "outputs": [
    {
     "name": "stdout",
     "output_type": "stream",
     "text": [
      "Account: p\n",
      "Fetching exchange\n"
     ]
    },
    {
     "ename": "KeyError",
     "evalue": "'tADDUSD'",
     "output_type": "error",
     "traceback": [
      "\u001b[0;31m---------------------------------------------------------------------------\u001b[0m",
      "\u001b[0;31mKeyError\u001b[0m                                  Traceback (most recent call last)",
      "\u001b[0;32m<ipython-input-9-9f63bf82d803>\u001b[0m in \u001b[0;36m<module>\u001b[0;34m()\u001b[0m\n\u001b[0;32m----> 1\u001b[0;31m \u001b[0mtrader\u001b[0m\u001b[0;34m.\u001b[0m\u001b[0mTrader\u001b[0m\u001b[0;34m(\u001b[0m\u001b[0maccount\u001b[0m \u001b[0;34m=\u001b[0m \u001b[0;34m'p'\u001b[0m\u001b[0;34m)\u001b[0m\u001b[0;34m.\u001b[0m\u001b[0mget_account_value\u001b[0m\u001b[0;34m(\u001b[0m\u001b[0;34m)\u001b[0m\u001b[0;34m\u001b[0m\u001b[0m\n\u001b[0m",
      "\u001b[0;32m/Users/zach-eberhart/Desktop/rltrader/rltensor/execution/trader.py\u001b[0m in \u001b[0;36mget_account_value\u001b[0;34m(self)\u001b[0m\n\u001b[1;32m    361\u001b[0m         \u001b[0;32mfor\u001b[0m \u001b[0mk\u001b[0m \u001b[0;32min\u001b[0m \u001b[0mwallet_types\u001b[0m\u001b[0;34m:\u001b[0m\u001b[0;34m\u001b[0m\u001b[0m\n\u001b[1;32m    362\u001b[0m             \u001b[0mprint\u001b[0m\u001b[0;34m(\u001b[0m\u001b[0;34m'Fetching'\u001b[0m\u001b[0;34m,\u001b[0m \u001b[0mk\u001b[0m\u001b[0;34m)\u001b[0m\u001b[0;34m\u001b[0m\u001b[0m\n\u001b[0;32m--> 363\u001b[0;31m             \u001b[0maccount_values\u001b[0m\u001b[0;34m[\u001b[0m\u001b[0mk\u001b[0m\u001b[0;34m]\u001b[0m \u001b[0;34m=\u001b[0m \u001b[0mfloat\u001b[0m\u001b[0;34m(\u001b[0m\u001b[0mself\u001b[0m\u001b[0;34m.\u001b[0m\u001b[0mget_wallet_value\u001b[0m\u001b[0;34m(\u001b[0m\u001b[0mwallet_types\u001b[0m\u001b[0;34m[\u001b[0m\u001b[0mk\u001b[0m\u001b[0;34m]\u001b[0m\u001b[0;34m)\u001b[0m\u001b[0;34m)\u001b[0m\u001b[0;34m\u001b[0m\u001b[0m\n\u001b[0m\u001b[1;32m    364\u001b[0m \u001b[0;34m\u001b[0m\u001b[0m\n\u001b[1;32m    365\u001b[0m         \u001b[0maccount_values\u001b[0m \u001b[0;34m=\u001b[0m \u001b[0mpd\u001b[0m\u001b[0;34m.\u001b[0m\u001b[0mDataFrame\u001b[0m\u001b[0;34m(\u001b[0m\u001b[0;34m[\u001b[0m\u001b[0maccount_values\u001b[0m\u001b[0;34m]\u001b[0m\u001b[0;34m)\u001b[0m\u001b[0;34m\u001b[0m\u001b[0m\n",
      "\u001b[0;32m/Users/zach-eberhart/Desktop/rltrader/rltensor/execution/trader.py\u001b[0m in \u001b[0;36mget_wallet_value\u001b[0;34m(self, wallet)\u001b[0m\n\u001b[1;32m    336\u001b[0m \u001b[0;34m\u001b[0m\u001b[0m\n\u001b[1;32m    337\u001b[0m         \u001b[0;31m# get the ticker for each pair\u001b[0m\u001b[0;34m\u001b[0m\u001b[0;34m\u001b[0m\u001b[0m\n\u001b[0;32m--> 338\u001b[0;31m         \u001b[0mlast_price\u001b[0m \u001b[0;34m=\u001b[0m \u001b[0mself\u001b[0m\u001b[0;34m.\u001b[0m\u001b[0mget_tickers\u001b[0m\u001b[0;34m(\u001b[0m\u001b[0mportfolio_bfx_symbols\u001b[0m\u001b[0;34m,\u001b[0m \u001b[0muse_cp_map\u001b[0m \u001b[0;34m=\u001b[0m \u001b[0;32mFalse\u001b[0m\u001b[0;34m)\u001b[0m\u001b[0;34m[\u001b[0m\u001b[0;34m[\u001b[0m\u001b[0;34m'symbol'\u001b[0m\u001b[0;34m,\u001b[0m \u001b[0;34m'last_price'\u001b[0m\u001b[0;34m]\u001b[0m\u001b[0;34m]\u001b[0m\u001b[0;34m.\u001b[0m\u001b[0mcopy\u001b[0m\u001b[0;34m(\u001b[0m\u001b[0;34m)\u001b[0m\u001b[0;34m\u001b[0m\u001b[0m\n\u001b[0m\u001b[1;32m    339\u001b[0m \u001b[0;34m\u001b[0m\u001b[0m\n\u001b[1;32m    340\u001b[0m         \u001b[0;31m# join data\u001b[0m\u001b[0;34m\u001b[0m\u001b[0;34m\u001b[0m\u001b[0m\n",
      "\u001b[0;32m/Users/zach-eberhart/Desktop/rltrader/rltensor/execution/trader.py\u001b[0m in \u001b[0;36mget_tickers\u001b[0;34m(self, currency_pairs, use_cp_map)\u001b[0m\n\u001b[1;32m    273\u001b[0m             \u001b[0mticker_df\u001b[0m\u001b[0;34m.\u001b[0m\u001b[0mindex\u001b[0m \u001b[0;34m=\u001b[0m \u001b[0mcurrency_pairs\u001b[0m\u001b[0;34m\u001b[0m\u001b[0m\n\u001b[1;32m    274\u001b[0m         \u001b[0;32melse\u001b[0m\u001b[0;34m:\u001b[0m\u001b[0;34m\u001b[0m\u001b[0m\n\u001b[0;32m--> 275\u001b[0;31m             \u001b[0mticker_df\u001b[0m\u001b[0;34m.\u001b[0m\u001b[0mindex\u001b[0m \u001b[0;34m=\u001b[0m \u001b[0;34m[\u001b[0m\u001b[0mself\u001b[0m\u001b[0;34m.\u001b[0m\u001b[0mcp_map\u001b[0m\u001b[0;34m[\u001b[0m\u001b[0mcp\u001b[0m\u001b[0;34m]\u001b[0m \u001b[0;32mfor\u001b[0m \u001b[0mcp\u001b[0m \u001b[0;32min\u001b[0m \u001b[0mcurrency_pairs\u001b[0m\u001b[0;34m]\u001b[0m\u001b[0;34m\u001b[0m\u001b[0m\n\u001b[0m\u001b[1;32m    276\u001b[0m \u001b[0;34m\u001b[0m\u001b[0m\n\u001b[1;32m    277\u001b[0m         \u001b[0;32mreturn\u001b[0m \u001b[0mticker_df\u001b[0m\u001b[0;34m\u001b[0m\u001b[0m\n",
      "\u001b[0;32m/Users/zach-eberhart/Desktop/rltrader/rltensor/execution/trader.py\u001b[0m in \u001b[0;36m<listcomp>\u001b[0;34m(.0)\u001b[0m\n\u001b[1;32m    273\u001b[0m             \u001b[0mticker_df\u001b[0m\u001b[0;34m.\u001b[0m\u001b[0mindex\u001b[0m \u001b[0;34m=\u001b[0m \u001b[0mcurrency_pairs\u001b[0m\u001b[0;34m\u001b[0m\u001b[0m\n\u001b[1;32m    274\u001b[0m         \u001b[0;32melse\u001b[0m\u001b[0;34m:\u001b[0m\u001b[0;34m\u001b[0m\u001b[0m\n\u001b[0;32m--> 275\u001b[0;31m             \u001b[0mticker_df\u001b[0m\u001b[0;34m.\u001b[0m\u001b[0mindex\u001b[0m \u001b[0;34m=\u001b[0m \u001b[0;34m[\u001b[0m\u001b[0mself\u001b[0m\u001b[0;34m.\u001b[0m\u001b[0mcp_map\u001b[0m\u001b[0;34m[\u001b[0m\u001b[0mcp\u001b[0m\u001b[0;34m]\u001b[0m \u001b[0;32mfor\u001b[0m \u001b[0mcp\u001b[0m \u001b[0;32min\u001b[0m \u001b[0mcurrency_pairs\u001b[0m\u001b[0;34m]\u001b[0m\u001b[0;34m\u001b[0m\u001b[0m\n\u001b[0m\u001b[1;32m    276\u001b[0m \u001b[0;34m\u001b[0m\u001b[0m\n\u001b[1;32m    277\u001b[0m         \u001b[0;32mreturn\u001b[0m \u001b[0mticker_df\u001b[0m\u001b[0;34m\u001b[0m\u001b[0m\n",
      "\u001b[0;31mKeyError\u001b[0m: 'tADDUSD'"
     ]
    }
   ],
   "source": [
    "trader.Trader(account = 'p').get_account_value()"
   ]
  },
  {
   "cell_type": "code",
   "execution_count": 7,
   "metadata": {},
   "outputs": [
    {
     "name": "stdout",
     "output_type": "stream",
     "text": [
      "Account: l\n",
      "Fetching margin\n",
      "Fetching funding\n",
      "Fetching exchange\n"
     ]
    },
    {
     "ename": "KeyError",
     "evalue": "'tADDUSD'",
     "output_type": "error",
     "traceback": [
      "\u001b[0;31m---------------------------------------------------------------------------\u001b[0m",
      "\u001b[0;31mKeyError\u001b[0m                                  Traceback (most recent call last)",
      "\u001b[0;32m<ipython-input-7-06537f7718ce>\u001b[0m in \u001b[0;36m<module>\u001b[0;34m()\u001b[0m\n\u001b[0;32m----> 1\u001b[0;31m \u001b[0mtrader\u001b[0m\u001b[0;34m.\u001b[0m\u001b[0mTrader\u001b[0m\u001b[0;34m(\u001b[0m\u001b[0maccount\u001b[0m \u001b[0;34m=\u001b[0m \u001b[0;34m'l'\u001b[0m\u001b[0;34m)\u001b[0m\u001b[0;34m.\u001b[0m\u001b[0mget_account_value\u001b[0m\u001b[0;34m(\u001b[0m\u001b[0;34m)\u001b[0m\u001b[0;34m\u001b[0m\u001b[0m\n\u001b[0m",
      "\u001b[0;32m/Users/zach-eberhart/Desktop/rltrader/rltensor/execution/trader.py\u001b[0m in \u001b[0;36mget_account_value\u001b[0;34m(self)\u001b[0m\n\u001b[1;32m    361\u001b[0m         \u001b[0;32mfor\u001b[0m \u001b[0mk\u001b[0m \u001b[0;32min\u001b[0m \u001b[0mwallet_types\u001b[0m\u001b[0;34m:\u001b[0m\u001b[0;34m\u001b[0m\u001b[0m\n\u001b[1;32m    362\u001b[0m             \u001b[0mprint\u001b[0m\u001b[0;34m(\u001b[0m\u001b[0;34m'Fetching'\u001b[0m\u001b[0;34m,\u001b[0m \u001b[0mk\u001b[0m\u001b[0;34m)\u001b[0m\u001b[0;34m\u001b[0m\u001b[0m\n\u001b[0;32m--> 363\u001b[0;31m             \u001b[0maccount_values\u001b[0m\u001b[0;34m[\u001b[0m\u001b[0mk\u001b[0m\u001b[0;34m]\u001b[0m \u001b[0;34m=\u001b[0m \u001b[0mfloat\u001b[0m\u001b[0;34m(\u001b[0m\u001b[0mself\u001b[0m\u001b[0;34m.\u001b[0m\u001b[0mget_wallet_value\u001b[0m\u001b[0;34m(\u001b[0m\u001b[0mwallet_types\u001b[0m\u001b[0;34m[\u001b[0m\u001b[0mk\u001b[0m\u001b[0;34m]\u001b[0m\u001b[0;34m)\u001b[0m\u001b[0;34m)\u001b[0m\u001b[0;34m\u001b[0m\u001b[0m\n\u001b[0m\u001b[1;32m    364\u001b[0m \u001b[0;34m\u001b[0m\u001b[0m\n\u001b[1;32m    365\u001b[0m         \u001b[0maccount_values\u001b[0m \u001b[0;34m=\u001b[0m \u001b[0mpd\u001b[0m\u001b[0;34m.\u001b[0m\u001b[0mDataFrame\u001b[0m\u001b[0;34m(\u001b[0m\u001b[0;34m[\u001b[0m\u001b[0maccount_values\u001b[0m\u001b[0;34m]\u001b[0m\u001b[0;34m)\u001b[0m\u001b[0;34m\u001b[0m\u001b[0m\n",
      "\u001b[0;32m/Users/zach-eberhart/Desktop/rltrader/rltensor/execution/trader.py\u001b[0m in \u001b[0;36mget_wallet_value\u001b[0;34m(self, wallet)\u001b[0m\n\u001b[1;32m    336\u001b[0m \u001b[0;34m\u001b[0m\u001b[0m\n\u001b[1;32m    337\u001b[0m         \u001b[0;31m# get the ticker for each pair\u001b[0m\u001b[0;34m\u001b[0m\u001b[0;34m\u001b[0m\u001b[0m\n\u001b[0;32m--> 338\u001b[0;31m         \u001b[0mlast_price\u001b[0m \u001b[0;34m=\u001b[0m \u001b[0mself\u001b[0m\u001b[0;34m.\u001b[0m\u001b[0mget_tickers\u001b[0m\u001b[0;34m(\u001b[0m\u001b[0mportfolio_bfx_symbols\u001b[0m\u001b[0;34m,\u001b[0m \u001b[0muse_cp_map\u001b[0m \u001b[0;34m=\u001b[0m \u001b[0;32mFalse\u001b[0m\u001b[0;34m)\u001b[0m\u001b[0;34m[\u001b[0m\u001b[0;34m[\u001b[0m\u001b[0;34m'symbol'\u001b[0m\u001b[0;34m,\u001b[0m \u001b[0;34m'last_price'\u001b[0m\u001b[0;34m]\u001b[0m\u001b[0;34m]\u001b[0m\u001b[0;34m.\u001b[0m\u001b[0mcopy\u001b[0m\u001b[0;34m(\u001b[0m\u001b[0;34m)\u001b[0m\u001b[0;34m\u001b[0m\u001b[0m\n\u001b[0m\u001b[1;32m    339\u001b[0m \u001b[0;34m\u001b[0m\u001b[0m\n\u001b[1;32m    340\u001b[0m         \u001b[0;31m# join data\u001b[0m\u001b[0;34m\u001b[0m\u001b[0;34m\u001b[0m\u001b[0m\n",
      "\u001b[0;32m/Users/zach-eberhart/Desktop/rltrader/rltensor/execution/trader.py\u001b[0m in \u001b[0;36mget_tickers\u001b[0;34m(self, currency_pairs, use_cp_map)\u001b[0m\n\u001b[1;32m    273\u001b[0m             \u001b[0mticker_df\u001b[0m\u001b[0;34m.\u001b[0m\u001b[0mindex\u001b[0m \u001b[0;34m=\u001b[0m \u001b[0mcurrency_pairs\u001b[0m\u001b[0;34m\u001b[0m\u001b[0m\n\u001b[1;32m    274\u001b[0m         \u001b[0;32melse\u001b[0m\u001b[0;34m:\u001b[0m\u001b[0;34m\u001b[0m\u001b[0m\n\u001b[0;32m--> 275\u001b[0;31m             \u001b[0mticker_df\u001b[0m\u001b[0;34m.\u001b[0m\u001b[0mindex\u001b[0m \u001b[0;34m=\u001b[0m \u001b[0;34m[\u001b[0m\u001b[0mself\u001b[0m\u001b[0;34m.\u001b[0m\u001b[0mcp_map\u001b[0m\u001b[0;34m[\u001b[0m\u001b[0mcp\u001b[0m\u001b[0;34m]\u001b[0m \u001b[0;32mfor\u001b[0m \u001b[0mcp\u001b[0m \u001b[0;32min\u001b[0m \u001b[0mcurrency_pairs\u001b[0m\u001b[0;34m]\u001b[0m\u001b[0;34m\u001b[0m\u001b[0m\n\u001b[0m\u001b[1;32m    276\u001b[0m \u001b[0;34m\u001b[0m\u001b[0m\n\u001b[1;32m    277\u001b[0m         \u001b[0;32mreturn\u001b[0m \u001b[0mticker_df\u001b[0m\u001b[0;34m\u001b[0m\u001b[0m\n",
      "\u001b[0;32m/Users/zach-eberhart/Desktop/rltrader/rltensor/execution/trader.py\u001b[0m in \u001b[0;36m<listcomp>\u001b[0;34m(.0)\u001b[0m\n\u001b[1;32m    273\u001b[0m             \u001b[0mticker_df\u001b[0m\u001b[0;34m.\u001b[0m\u001b[0mindex\u001b[0m \u001b[0;34m=\u001b[0m \u001b[0mcurrency_pairs\u001b[0m\u001b[0;34m\u001b[0m\u001b[0m\n\u001b[1;32m    274\u001b[0m         \u001b[0;32melse\u001b[0m\u001b[0;34m:\u001b[0m\u001b[0;34m\u001b[0m\u001b[0m\n\u001b[0;32m--> 275\u001b[0;31m             \u001b[0mticker_df\u001b[0m\u001b[0;34m.\u001b[0m\u001b[0mindex\u001b[0m \u001b[0;34m=\u001b[0m \u001b[0;34m[\u001b[0m\u001b[0mself\u001b[0m\u001b[0;34m.\u001b[0m\u001b[0mcp_map\u001b[0m\u001b[0;34m[\u001b[0m\u001b[0mcp\u001b[0m\u001b[0;34m]\u001b[0m \u001b[0;32mfor\u001b[0m \u001b[0mcp\u001b[0m \u001b[0;32min\u001b[0m \u001b[0mcurrency_pairs\u001b[0m\u001b[0;34m]\u001b[0m\u001b[0;34m\u001b[0m\u001b[0m\n\u001b[0m\u001b[1;32m    276\u001b[0m \u001b[0;34m\u001b[0m\u001b[0m\n\u001b[1;32m    277\u001b[0m         \u001b[0;32mreturn\u001b[0m \u001b[0mticker_df\u001b[0m\u001b[0;34m\u001b[0m\u001b[0m\n",
      "\u001b[0;31mKeyError\u001b[0m: 'tADDUSD'"
     ]
    }
   ],
   "source": [
    "trader.Trader(account = 'l').get_account_value()"
   ]
  },
  {
   "cell_type": "markdown",
   "metadata": {
    "collapsed": true
   },
   "source": [
    "# Export for Reporting"
   ]
  },
  {
   "cell_type": "code",
   "execution_count": 8,
   "metadata": {},
   "outputs": [],
   "source": [
    "export_date = '2018-09-01'"
   ]
  },
  {
   "cell_type": "code",
   "execution_count": 9,
   "metadata": {},
   "outputs": [
    {
     "name": "stdout",
     "output_type": "stream",
     "text": [
      "\n",
      "=== Getting Trade History ===\n",
      "\n",
      "Period End: 1536426000\n",
      "Currency Pair: USDT_BCH\n",
      "Latest Trade: 1536423575000\n",
      "API Start: 1536423575000\n",
      "API End: 1536425183214\n",
      "Successfully added trades to raw db.\n",
      "\n",
      "Currency Pair: USDT_XMR\n",
      "Latest Trade: 1536423181000\n",
      "API Start: 1536423181000\n",
      "API End: 1536425186459\n",
      "Successfully added trades to raw db.\n",
      "\n",
      "Currency Pair: USDT_DASH\n",
      "Latest Trade: 1536423713000\n",
      "API Start: 1536423713000\n",
      "API End: 1536425189607\n",
      "Successfully added trades to raw db.\n",
      "\n",
      "Currency Pair: USDT_NEO\n",
      "Latest Trade: 1536423682000\n",
      "API Start: 1536423682000\n",
      "API End: 1536425192760\n",
      "Successfully added trades to raw db.\n",
      "\n",
      "Currency Pair: USDT_EOS\n",
      "Latest Trade: 1536423729000\n",
      "API Start: 1536423729000\n",
      "API End: 1536425196002\n",
      "Successfully added trades to raw db.\n",
      "\n",
      "Currency Pair: USDT_SAN\n",
      "Latest Trade: 1536423396000\n",
      "API Start: 1536423396000\n",
      "API End: 1536425199142\n",
      "Successfully added trades to raw db.\n",
      "\n",
      "Currency Pair: USDT_IOTA\n",
      "Latest Trade: 1536423617000\n",
      "API Start: 1536423617000\n",
      "API End: 1536425202255\n",
      "Successfully added trades to raw db.\n",
      "\n",
      "Currency Pair: USDT_BTC\n",
      "Latest Trade: 1536423770000\n",
      "API Start: 1536423770000\n",
      "API End: 1536425205463\n",
      "Successfully added trades to raw db.\n",
      "\n",
      "Currency Pair: USDT_ETH\n",
      "Latest Trade: 1536423682000\n",
      "API Start: 1536423682000\n",
      "API End: 1536425208600\n",
      "Successfully added trades to raw db.\n",
      "\n",
      "processing USDT_BCH\n",
      "processing USDT_XMR\n",
      "processing USDT_DASH\n",
      "processing USDT_NEO\n",
      "processing USDT_EOS\n",
      "processing USDT_SAN\n",
      "processing USDT_IOTA\n",
      "processing USDT_BTC\n",
      "processing USDT_ETH\n",
      "Successfully updated processed db.\n",
      "successfully exported data\n"
     ]
    }
   ],
   "source": [
    "latest_weights = p.get_online_weights(alternative_portfolio)\n",
    "\n",
    "history = TradeHistory(currency_pairs = alternative_portfolio,\n",
    "                           time_period = '24h',\n",
    "                           data_dir = '/Users/zach-eberhart/desktop/crypto/_hft/'\n",
    "                      )\n",
    "\n",
    "df = history.get_processed_charts_from_db()[['close', 'currency_pair']].copy()\n",
    "df = history.reformat_for_online_algo(df, ['close'])\n",
    "\n",
    "if df.shape == latest_weights.shape:\n",
    "    \n",
    "    # export\n",
    "    weights_fname = 'portfolio_weights_export_%s.csv' % export_date\n",
    "    close_fname = 'portfolio_close_export_%s.csv' % export_date\n",
    "    latest_weights.index = df.index\n",
    "    latest_weights.to_csv(weights_fname)\n",
    "    df.to_csv(close_fname)\n",
    "    \n",
    "    print('successfully exported data')\n",
    "    \n",
    "else:\n",
    "    print('dataframes are not the same shape')\n",
    "    print('closing prices df shape:', df.shape)\n",
    "    print('weights df shape:', latest_weights.shape)"
   ]
  },
  {
   "cell_type": "code",
   "execution_count": null,
   "metadata": {
    "collapsed": true
   },
   "outputs": [],
   "source": []
  },
  {
   "cell_type": "code",
   "execution_count": null,
   "metadata": {
    "collapsed": true
   },
   "outputs": [],
   "source": []
  }
 ],
 "metadata": {
  "kernelspec": {
   "display_name": "Python 3",
   "language": "python",
   "name": "python3"
  },
  "language_info": {
   "codemirror_mode": {
    "name": "ipython",
    "version": 3
   },
   "file_extension": ".py",
   "mimetype": "text/x-python",
   "name": "python",
   "nbconvert_exporter": "python",
   "pygments_lexer": "ipython3",
   "version": "3.6.5"
  }
 },
 "nbformat": 4,
 "nbformat_minor": 2
}
