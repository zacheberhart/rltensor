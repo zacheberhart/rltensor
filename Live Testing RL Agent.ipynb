{
 "cells": [
  {
   "cell_type": "code",
   "execution_count": 3,
   "metadata": {},
   "outputs": [],
   "source": [
    "#from rltensor.app import APPAgent\n",
    "import pickle\n",
    "import trader\n",
    "from trader import BFXClient, Trader\n",
    "from datetime import datetime\n",
    "from time import sleep\n",
    "import importlib\n",
    "import pandas as pd\n",
    "import numpy as np\n",
    "import sqlite3\n",
    "\n",
    "import sys\n",
    "sys.path.append('REDACTED/rltrader/pytrade_env/pytrade_env/database')\n",
    "import trade_history\n",
    "from trade_history import TradeHistory\n",
    "\n",
    "# dep: pandas 0.22.0\n",
    "sys.path.append('REDACTED/rltrader/rltensor/execution/online')\n",
    "import online_helpers as p"
   ]
  },
  {
   "cell_type": "code",
   "execution_count": 4,
   "metadata": {},
   "outputs": [],
   "source": [
    "def get_weights_dict(weights, currency_pairs):\n",
    "    dict_ = {}\n",
    "    for cp, w in zip(currency_pairs, weights):\n",
    "        dict_[cp] = w\n",
    "    return dict_\n",
    "\n",
    "def get_price_dict(currency_pairs):\n",
    "    k = 'REDACTED'\n",
    "    s = 'REDACTED'\n",
    "    bfx = BFXClient(k, s)\n",
    "    return bfx.get_last_price(currency_pairs).to_dict()\n",
    "\n",
    "def period_result(weights, currency_pairs):\n",
    "    weights_dict = get_weights_dict(weights, currency_pairs)\n",
    "    price_dict = get_price_dict(currency_pairs)\n",
    "    current_dt = str(datetime.utcnow().strftime(\"%Y-%m-%d %H:%M:%S\"))\n",
    "    return {'datetime': current_dt, 'weights': weights_dict, 'price': price_dict}\n",
    "\n",
    "def get_period_end():\n",
    "    now = [int(i) for i in datetime.now().strftime('%Y %m %d %H %M').split()]\n",
    "    if (int(now[4]) - 30) < 0:\n",
    "        now[4] = 30\n",
    "    else:\n",
    "        now[3] += 1\n",
    "        if now[3] == 24:\n",
    "            now[2] += 1\n",
    "            now[3] = 0\n",
    "        now[4] = 0\n",
    "    y, M, d, h, m = now\n",
    "    period_end = int(datetime(y, M, d, h, m).timestamp())\n",
    "    return period_end\n",
    "\n",
    "def sleep_until_period_end(sleep_buffer = 5):\n",
    "    period_end = get_period_end()\n",
    "    now = int(datetime.now().timestamp())\n",
    "    sleep_time = period_end - now + sleep_buffer\n",
    "    print('Sleeping until period end (%s seconds).' % sleep_time)\n",
    "    sleep(sleep_time)"
   ]
  },
  {
   "cell_type": "markdown",
   "metadata": {},
   "source": [
    "# RLTrader"
   ]
  },
  {
   "cell_type": "code",
   "execution_count": 4,
   "metadata": {},
   "outputs": [
    {
     "name": "stdout",
     "output_type": "stream",
     "text": [
      "\n",
      "Currency Pairs Used in Test:\n",
      "\n",
      "['USDT_BCH', 'USDT_BTC', 'USDT_DASH', 'USDT_ETC', 'USDT_ETH', 'USDT_LTC', 'USDT_XMR', 'USDT_XRP', 'USDT_ZEC']\n"
     ]
    }
   ],
   "source": [
    "tickers = []\n",
    "\n",
    "with (open(\"REDACTED/ticker1.pkl\", \"rb\")) as openfile:\n",
    "    \n",
    "    while True:\n",
    "        try: tickers.append(pickle.load(openfile))\n",
    "        except EOFError: break\n",
    "\n",
    "currency_pairs = tickers[0]\n",
    "\n",
    "print('\\nCurrency Pairs Used in Test:\\n')\n",
    "print(currency_pairs)"
   ]
  },
  {
   "cell_type": "markdown",
   "metadata": {},
   "source": [
    "## Pre-Retrieve New Data (if needed)"
   ]
  },
  {
   "cell_type": "code",
   "execution_count": 1,
   "metadata": {},
   "outputs": [],
   "source": [
    "p.just_update_trade_history(currency_pairs)"
   ]
  },
  {
   "cell_type": "code",
   "execution_count": 5,
   "metadata": {
    "collapsed": true
   },
   "outputs": [],
   "source": [
    "# df = history.get_processed_charts_from_db()[['open', 'high', 'low', 'close', 'volume', 'currency_pair']].copy()\n",
    "# df[df.index == df.index.max()]"
   ]
  },
  {
   "cell_type": "markdown",
   "metadata": {},
   "source": [
    "## Online (Balance Only)"
   ]
  },
  {
   "cell_type": "code",
   "execution_count": 2,
   "metadata": {},
   "outputs": [],
   "source": [
    "# get weights\n",
    "latest_weights = p.get_online_weights(currency_pairs)\n",
    "\n",
    "# balance portfolio\n",
    "trade = trader.Trader(account = 'REDACTED')\n",
    "trade.rebalance_portfolio(asset_weights = latest_weights.iloc[-1,:].copy(),\n",
    "                          fill_order_premium = 0.025,\n",
    "                          order_minimum = 10)"
   ]
  },
  {
   "cell_type": "markdown",
   "metadata": {},
   "source": [
    "## Train RL Model"
   ]
  },
  {
   "cell_type": "code",
   "execution_count": 6,
   "metadata": {},
   "outputs": [
    {
     "data": {
      "text/plain": [
       "'2018-02-27 00:17:49'"
      ]
     },
     "execution_count": 6,
     "metadata": {},
     "output_type": "execute_result"
    }
   ],
   "source": [
    "str(datetime.utcnow().strftime(\"%Y-%m-%d %H:%M:%S\"))"
   ]
  },
  {
   "cell_type": "code",
   "execution_count": 7,
   "metadata": {
    "collapsed": true
   },
   "outputs": [],
   "source": [
    "start = '2017-08-03 00:00:00'\n",
    "end = '2018-02-26 22:00:00'\n",
    "\n",
    "load_file_path = \"params2016-02-01_00:00:00/model.ckpt\"\n",
    "num_epochs = 1"
   ]
  },
  {
   "cell_type": "code",
   "execution_count": 9,
   "metadata": {
    "collapsed": true
   },
   "outputs": [],
   "source": [
    "APPAgent.fit(start, end, load_file_path, num_epochs)"
   ]
  },
  {
   "cell_type": "markdown",
   "metadata": {},
   "source": [
    "# Live Testing"
   ]
  },
  {
   "cell_type": "code",
   "execution_count": 7,
   "metadata": {
    "collapsed": true
   },
   "outputs": [],
   "source": [
    "# del trade, trader\n",
    "# import trader\n",
    "# importlib.reload(trader)"
   ]
  },
  {
   "cell_type": "code",
   "execution_count": 9,
   "metadata": {
    "collapsed": true,
    "scrolled": true
   },
   "outputs": [],
   "source": [
    "results = []\n",
    "\n",
    "#sleep_until_period_end()\n",
    "\n",
    "while True:\n",
    "    \n",
    "    # update model and get prediction\n",
    "    APPAgent.update_data()\n",
    "    APPAgent.update_model(num_epochs = 1)\n",
    "    pred = APPAgent.predict()\n",
    "    \n",
    "    # save results\n",
    "    current_result = dict(period_result(pred, currency_pairs))\n",
    "    results.append(current_result)\n",
    "    print(current_result, '\\n\\n')\n",
    "    \n",
    "    '''\n",
    "    TODO: SORT THE ASSETS TO BALANCE SO THAT NEGATIVES COME FIRST, AND THEN THE\n",
    "    HIGHEST POSITIVES (SO WE GET THE MOST OF THE ASSET THAT IS WEIGHED THE MOST)\n",
    "    '''\n",
    "    \n",
    "    if int(datetime.now().strftime('%M')) < 30 and \\\n",
    "       int(datetime.now().strftime('%H')) % 2 == 0 and False:\n",
    "        \n",
    "        trade = trader.Trader(account = 'REDACTED')\n",
    "        trade.rebalance_portfolio(asset_weights = pd.Series(current_result['weights']),\n",
    "                                  fill_order_premium = 0.01,\n",
    "                                  order_minimum = 10)\n",
    "    \n",
    "    \n",
    "    if int(datetime.now().strftime('%M')) < 30 and \\\n",
    "       int(datetime.utcnow().strftime('%H')) == 0:\n",
    "        \n",
    "        print('\\n\\n\\n\\n\\n========== REBALANCING PORTFOLIO ==========\\n\\n\\n')\n",
    "            \n",
    "        # get Online weights\n",
    "        latest_weights = p.get_online_weights(currency_pairs)\n",
    "        \n",
    "        # balance portfolio\n",
    "        trade = trader.Trader(account = 'REDACTED')\n",
    "        trade.rebalance_portfolio(asset_weights = latest_weights,\n",
    "                                  fill_order_premium = 0.025,\n",
    "                                  order_minimum = 10)\n",
    "    \n",
    "    \n",
    "    # sleep for a little and then update\n",
    "    sleep(1200)\n",
    "    p.just_update_trade_history(all_relevant_pairs, verbose = False)\n",
    "    \n",
    "    # and now sleep until the end of the period\n",
    "    print()\n",
    "    sleep_until_period_end()\n",
    "    print('\\n\\n')"
   ]
  },
  {
   "cell_type": "markdown",
   "metadata": {},
   "source": [
    "## Recent Account Values"
   ]
  },
  {
   "cell_type": "code",
   "execution_count": 3,
   "metadata": {},
   "outputs": [],
   "source": [
    "trader.Trader(account = 'REDACTED').get_account_value()"
   ]
  },
  {
   "cell_type": "markdown",
   "metadata": {
    "collapsed": true
   },
   "source": [
    "# Export for Reporting"
   ]
  },
  {
   "cell_type": "code",
   "execution_count": 8,
   "metadata": {},
   "outputs": [],
   "source": [
    "export_date = '2018-04-01'"
   ]
  },
  {
   "cell_type": "code",
   "execution_count": 9,
   "metadata": {},
   "outputs": [
    {
     "name": "stdout",
     "output_type": "stream",
     "text": [
      "\n",
      "=== Getting Trade History ===\n",
      "\n",
      "Period End: 1536426000\n",
      "Currency Pair: USDT_BCH\n",
      "Latest Trade: 1536423575000\n",
      "API Start: 1536423575000\n",
      "API End: 1536425183214\n",
      "Successfully added trades to raw db.\n",
      "\n",
      "Currency Pair: USDT_XMR\n",
      "Latest Trade: 1536423181000\n",
      "API Start: 1536423181000\n",
      "API End: 1536425186459\n",
      "Successfully added trades to raw db.\n",
      "\n",
      "Currency Pair: USDT_DASH\n",
      "Latest Trade: 1536423713000\n",
      "API Start: 1536423713000\n",
      "API End: 1536425189607\n",
      "Successfully added trades to raw db.\n",
      "\n",
      "Currency Pair: USDT_NEO\n",
      "Latest Trade: 1536423682000\n",
      "API Start: 1536423682000\n",
      "API End: 1536425192760\n",
      "Successfully added trades to raw db.\n",
      "\n",
      "Currency Pair: USDT_EOS\n",
      "Latest Trade: 1536423729000\n",
      "API Start: 1536423729000\n",
      "API End: 1536425196002\n",
      "Successfully added trades to raw db.\n",
      "\n",
      "Currency Pair: USDT_SAN\n",
      "Latest Trade: 1536423396000\n",
      "API Start: 1536423396000\n",
      "API End: 1536425199142\n",
      "Successfully added trades to raw db.\n",
      "\n",
      "Currency Pair: USDT_IOTA\n",
      "Latest Trade: 1536423617000\n",
      "API Start: 1536423617000\n",
      "API End: 1536425202255\n",
      "Successfully added trades to raw db.\n",
      "\n",
      "Currency Pair: USDT_BTC\n",
      "Latest Trade: 1536423770000\n",
      "API Start: 1536423770000\n",
      "API End: 1536425205463\n",
      "Successfully added trades to raw db.\n",
      "\n",
      "Currency Pair: USDT_ETH\n",
      "Latest Trade: 1536423682000\n",
      "API Start: 1536423682000\n",
      "API End: 1536425208600\n",
      "Successfully added trades to raw db.\n",
      "\n",
      "processing USDT_BCH\n",
      "processing USDT_XMR\n",
      "processing USDT_DASH\n",
      "processing USDT_NEO\n",
      "processing USDT_EOS\n",
      "processing USDT_SAN\n",
      "processing USDT_IOTA\n",
      "processing USDT_BTC\n",
      "processing USDT_ETH\n",
      "Successfully updated processed db.\n",
      "successfully exported data\n"
     ]
    }
   ],
   "source": [
    "latest_weights = p.get_online_weights(currency_pairs)\n",
    "\n",
    "history = TradeHistory(currency_pairs = currency_pairs,\n",
    "                           time_period = '24h',\n",
    "                           data_dir = 'REDACTED'\n",
    "                      )\n",
    "\n",
    "df = history.get_processed_charts_from_db()[['close', 'currency_pair']].copy()\n",
    "df = history.reformat_for_online_algo(df, ['close'])\n",
    "\n",
    "if df.shape == latest_weights.shape:\n",
    "    \n",
    "    # export\n",
    "    weights_fname = 'portfolio_weights_export_%s.csv' % export_date\n",
    "    close_fname = 'portfolio_close_export_%s.csv' % export_date\n",
    "    latest_weights.index = df.index\n",
    "    latest_weights.to_csv(weights_fname)\n",
    "    df.to_csv(close_fname)\n",
    "    \n",
    "    print('successfully exported data')\n",
    "    \n",
    "else:\n",
    "    print('dataframes are not the same shape')\n",
    "    print('closing prices df shape:', df.shape)\n",
    "    print('weights df shape:', latest_weights.shape)"
   ]
  },
  {
   "cell_type": "code",
   "execution_count": null,
   "metadata": {
    "collapsed": true
   },
   "outputs": [],
   "source": []
  },
  {
   "cell_type": "code",
   "execution_count": null,
   "metadata": {
    "collapsed": true
   },
   "outputs": [],
   "source": []
  }
 ],
 "metadata": {
  "kernelspec": {
   "display_name": "Python 3",
   "language": "python",
   "name": "python3"
  },
  "language_info": {
   "codemirror_mode": {
    "name": "ipython",
    "version": 3
   },
   "file_extension": ".py",
   "mimetype": "text/x-python",
   "name": "python",
   "nbconvert_exporter": "python",
   "pygments_lexer": "ipython3",
   "version": "3.6.5"
  }
 },
 "nbformat": 4,
 "nbformat_minor": 2
}
